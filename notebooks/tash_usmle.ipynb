{
 "cells": [
  {
   "cell_type": "markdown",
   "id": "b89dea11-394f-4189-bc8b-492ea4030540",
   "metadata": {},
   "source": [
    "# Understanding Tash's USMLE workload "
   ]
  },
  {
   "cell_type": "markdown",
   "id": "696630e1-2076-4f07-a2ea-15dc66810f9a",
   "metadata": {},
   "source": [
    "# Imports"
   ]
  },
  {
   "cell_type": "markdown",
   "id": "be987a01-1902-424e-97d9-6ac62ad46b44",
   "metadata": {},
   "source": [
    "#### Standard libraries"
   ]
  },
  {
   "cell_type": "code",
   "execution_count": 1,
   "id": "a2fd6a53-2103-4ad7-a933-6cb6c81e590d",
   "metadata": {
    "scrolled": true
   },
   "outputs": [],
   "source": [
    "import os\n",
    "\n",
    "import json\n",
    "\n",
    "import pickle\n",
    "\n",
    "import datetime"
   ]
  },
  {
   "cell_type": "markdown",
   "id": "f01409ff-6f16-4a0e-84e0-d630041d47f7",
   "metadata": {},
   "source": [
    "#### Third party imports"
   ]
  },
  {
   "cell_type": "code",
   "execution_count": 2,
   "id": "dc2eeccb-efd4-4383-82b5-392124f501df",
   "metadata": {
    "scrolled": true
   },
   "outputs": [
    {
     "ename": "ModuleNotFoundError",
     "evalue": "No module named 'moviepy'",
     "output_type": "error",
     "traceback": [
      "\u001b[0;31m---------------------------------------------------------------------------\u001b[0m",
      "\u001b[0;31mModuleNotFoundError\u001b[0m                       Traceback (most recent call last)",
      "\u001b[0;32m/var/folders/0q/3y5dk4390kqc86qh28v817lw0000gn/T/ipykernel_16930/1564665148.py\u001b[0m in \u001b[0;36m<module>\u001b[0;34m\u001b[0m\n\u001b[0;32m----> 1\u001b[0;31m \u001b[0;32mfrom\u001b[0m \u001b[0mmoviepy\u001b[0m\u001b[0;34m.\u001b[0m\u001b[0meditor\u001b[0m \u001b[0;32mimport\u001b[0m \u001b[0mVideoFileClip\u001b[0m\u001b[0;34m\u001b[0m\u001b[0;34m\u001b[0m\u001b[0m\n\u001b[0m",
      "\u001b[0;31mModuleNotFoundError\u001b[0m: No module named 'moviepy'"
     ]
    }
   ],
   "source": [
    "from moviepy.editor import VideoFileClip"
   ]
  },
  {
   "cell_type": "markdown",
   "id": "b9eb8c36-a911-4a74-98ae-19c8ace52869",
   "metadata": {},
   "source": [
    "#### Local aplication imports"
   ]
  },
  {
   "cell_type": "markdown",
   "id": "d492ecd5-236a-4a35-b215-6c51497350db",
   "metadata": {},
   "source": [
    "# Initial exploration"
   ]
  },
  {
   "cell_type": "markdown",
   "id": "7d4846c6-9ca0-41bf-9409-b92b5070f374",
   "metadata": {
    "heading_collapsed": "true",
    "tags": []
   },
   "source": [
    "## Exploring video"
   ]
  },
  {
   "cell_type": "code",
   "execution_count": null,
   "id": "acaabe50-72e5-43c1-9470-f30b3bafb4a5",
   "metadata": {
    "scrolled": true
   },
   "outputs": [],
   "source": [
    "pth = \"../../../../../Desktop/USMLE STEP 1/Kaplan USMLE Step 1 Videos 2020/01 Anatomy 34h27m/01 Embryology & Histology/\""
   ]
  },
  {
   "cell_type": "code",
   "execution_count": null,
   "id": "7247b202-da55-4078-b3ad-f74b2f51c24e",
   "metadata": {
    "scrolled": true
   },
   "outputs": [],
   "source": [
    "vx = [vid for vid in os.listdir(pth) if \"06\" in vid][0]"
   ]
  },
  {
   "cell_type": "code",
   "execution_count": null,
   "id": "567c9c31-eea3-4f6e-bb3c-c7729b6529bc",
   "metadata": {
    "scrolled": true
   },
   "outputs": [],
   "source": [
    "vx = VideoFileClip(pth + vx)"
   ]
  },
  {
   "cell_type": "code",
   "execution_count": null,
   "id": "1c58a16d-16c3-4f9f-95b0-d430415e38e3",
   "metadata": {
    "scrolled": true
   },
   "outputs": [],
   "source": [
    "vx_dur = vx.duration"
   ]
  },
  {
   "cell_type": "code",
   "execution_count": null,
   "id": "ff343646-587d-41dc-b6b1-22ca3e58e6f6",
   "metadata": {
    "scrolled": true
   },
   "outputs": [],
   "source": [
    "vx_dur/60"
   ]
  },
  {
   "cell_type": "markdown",
   "id": "6b650895-ab69-43bf-8573-794d229152a2",
   "metadata": {
    "tags": []
   },
   "source": [
    "## Working with one dir"
   ]
  },
  {
   "cell_type": "code",
   "execution_count": null,
   "id": "77ea02c9-afb9-410f-b14f-06787df6e2ef",
   "metadata": {
    "scrolled": true
   },
   "outputs": [],
   "source": [
    "pth = \"../../../../../Desktop/USMLE STEP 1/Kaplan USMLE Step 1 Videos 2020/01 Anatomy 34h27m/02 Gross Anatomy/\""
   ]
  },
  {
   "cell_type": "code",
   "execution_count": null,
   "id": "a6904a96-b7a9-4185-bd23-8a39451af089",
   "metadata": {
    "scrolled": true
   },
   "outputs": [],
   "source": [
    "vx = [vid for vid in os.listdir(pth)]"
   ]
  },
  {
   "cell_type": "code",
   "execution_count": null,
   "id": "3d443b46-1fe4-4d2f-9788-214784768fc3",
   "metadata": {
    "scrolled": true,
    "tags": []
   },
   "outputs": [],
   "source": [
    "dirx = {}\n",
    "for vid in os.listdir(pth):\n",
    "    dirx[vid] = round(VideoFileClip(pth + vid).duration/60, 2)"
   ]
  },
  {
   "cell_type": "code",
   "execution_count": null,
   "id": "36f2d76f-6630-4dd6-8974-7d95847b0449",
   "metadata": {
    "scrolled": true
   },
   "outputs": [],
   "source": [
    "vsum = 0\n",
    "for vid in dirx:\n",
    "    vsum += dirx[vid]\n",
    "    \n",
    "vsum/60"
   ]
  },
  {
   "cell_type": "markdown",
   "id": "53ce58c0-0a54-4d94-bb97-72b3dc6cb122",
   "metadata": {
    "tags": []
   },
   "source": [
    "# Calculating work plan"
   ]
  },
  {
   "cell_type": "markdown",
   "id": "04c84191-00bb-457c-8b1c-880563e5bee6",
   "metadata": {
    "tags": []
   },
   "source": [
    "## How much time for all USMLE?"
   ]
  },
  {
   "cell_type": "markdown",
   "id": "3ffd2769-f4aa-4596-849e-d5ba688dcb35",
   "metadata": {
    "heading_collapsed": "true",
    "tags": []
   },
   "source": [
    "### Calculating total time for each video with loop"
   ]
  },
  {
   "cell_type": "code",
   "execution_count": null,
   "id": "762cf6e2-ff71-4c46-bd74-d66ecdc3b3d5",
   "metadata": {
    "scrolled": true
   },
   "outputs": [],
   "source": [
    "pth = \"../../../../../Desktop/USMLE STEP 1/Kaplan USMLE Step 1 Videos 2020/\""
   ]
  },
  {
   "cell_type": "code",
   "execution_count": null,
   "id": "6e67e2bb-91bf-4b72-90c0-e2990505af02",
   "metadata": {
    "scrolled": true
   },
   "outputs": [],
   "source": [
    "main_topic_list = [mtl for mtl in os.listdir(pth) if \".\" not in mtl]"
   ]
  },
  {
   "cell_type": "raw",
   "id": "d5c67a6c-c0f8-45bb-a640-669ff79067fe",
   "metadata": {
    "tags": []
   },
   "source": [
    "comp_dir = {}\n",
    "tot_t = 0\n",
    "for mtl in main_topic_list:\n",
    "    \n",
    "    comp_dir[mtl] = {}\n",
    "    \n",
    "    \n",
    "    for stl in os.listdir(pth + mtl):\n",
    "        \n",
    "        comp_dir[mtl][stl] = {}\n",
    "        \n",
    "        \n",
    "        for vid in [v for v in os.listdir(pth + mtl + \"/\" + stl) if \".ini\" not in v]:\n",
    "            \n",
    "            comp_dir[mtl][stl][vid] = round(VideoFileClip(pth + mtl + \"/\" + stl + \"/\" + vid).duration/60, 2)\n",
    "            tot_t += comp_dir[mtl][stl][vid]\n",
    "        "
   ]
  },
  {
   "cell_type": "raw",
   "id": "cffbab6c-4f79-4b23-bc56-7206fcfda8e4",
   "metadata": {},
   "source": [
    "pickle.dump(comp_dir, open(\"time_dict.pkl\", \"wb\"))"
   ]
  },
  {
   "cell_type": "markdown",
   "id": "1ae2501d-e644-4e20-8bbe-fd6cdd193c0f",
   "metadata": {
    "heading_collapsed": "true",
    "tags": []
   },
   "source": [
    "### Importing results form pickle"
   ]
  },
  {
   "cell_type": "code",
   "execution_count": null,
   "id": "61176f1c-9dc5-4291-8627-40acb4e9ca31",
   "metadata": {},
   "outputs": [],
   "source": [
    "comp_dir = pickle.load(open(\"time_dict.pkl\", \"rb\"))"
   ]
  },
  {
   "cell_type": "markdown",
   "id": "1f94b741-5685-4b19-a368-3b79fc2ad3fd",
   "metadata": {
    "heading_collapsed": "true",
    "tags": []
   },
   "source": [
    "### Calculating total time in minutes for all videos"
   ]
  },
  {
   "cell_type": "code",
   "execution_count": null,
   "id": "3b15b3a3-f910-4831-b27f-464f34d3b202",
   "metadata": {},
   "outputs": [],
   "source": [
    "tt = 0\n",
    "for mtl in comp_dir:\n",
    "    for stl in comp_dir[mtl]:\n",
    "        for vid in comp_dir[mtl][stl]:\n",
    "            tt += comp_dir[mtl][stl][vid]"
   ]
  },
  {
   "cell_type": "code",
   "execution_count": null,
   "id": "21d02cb6-f835-4607-a5ef-7ad6fb00c10a",
   "metadata": {},
   "outputs": [],
   "source": [
    "print(\"Total vide time in minutes: \", tt)"
   ]
  },
  {
   "cell_type": "code",
   "execution_count": null,
   "id": "a168d2e6-d891-4754-948e-cde1df6718e3",
   "metadata": {},
   "outputs": [],
   "source": [
    "print(\"Total vide time in hours: \", tt/60)"
   ]
  },
  {
   "cell_type": "code",
   "execution_count": null,
   "id": "ad60471f-5d4e-4b9f-8531-59668665c813",
   "metadata": {},
   "outputs": [],
   "source": [
    "print(\"Total vide time in days: \", tt/(60*24))"
   ]
  },
  {
   "cell_type": "markdown",
   "id": "075b56f7-7082-4e0c-b61c-4efd1d395719",
   "metadata": {
    "heading_collapsed": "true",
    "tags": []
   },
   "source": [
    "### How many hours from today until goal day?"
   ]
  },
  {
   "cell_type": "code",
   "execution_count": null,
   "id": "42b016cd-8ca6-4495-89a7-2525639d89ef",
   "metadata": {},
   "outputs": [],
   "source": [
    "time_i = datetime.date(2021, 5, 7)\n",
    "time_f = datetime.date(2021, 9, 1)"
   ]
  },
  {
   "cell_type": "code",
   "execution_count": null,
   "id": "0465855b-9a40-42a7-bff0-a31c12908062",
   "metadata": {},
   "outputs": [],
   "source": [
    "days = time_f - time_i\n",
    "days = days.days"
   ]
  },
  {
   "cell_type": "code",
   "execution_count": null,
   "id": "83fbb23f-6738-4767-b4e5-a12c0a2f8487",
   "metadata": {},
   "outputs": [],
   "source": [
    "days"
   ]
  },
  {
   "cell_type": "code",
   "execution_count": null,
   "id": "43a886d8-17e6-4e4a-aef2-472b2eac5787",
   "metadata": {},
   "outputs": [],
   "source": [
    "(tt/60)/days"
   ]
  },
  {
   "cell_type": "markdown",
   "id": "b6a63611-3d43-4e00-b73e-c9136a5582b4",
   "metadata": {
    "tags": []
   },
   "source": [
    "## Table with organized information"
   ]
  },
  {
   "cell_type": "code",
   "execution_count": null,
   "id": "808bb9df-cbd8-4292-90b1-9ee6db1b6a82",
   "metadata": {},
   "outputs": [],
   "source": [
    "for lv1 in comp_dir[\"07 Physiology 34h33m\"]:\n",
    "    print(lv1)"
   ]
  },
  {
   "cell_type": "markdown",
   "id": "6086dbe4-efe4-41fd-bda3-8c6aab48bb35",
   "metadata": {
    "tags": []
   },
   "source": [
    "---\n",
    "---"
   ]
  }
 ],
 "metadata": {
  "kernelspec": {
   "display_name": "Python 3 (ipykernel)",
   "language": "python",
   "name": "python3"
  },
  "language_info": {
   "codemirror_mode": {
    "name": "ipython",
    "version": 3
   },
   "file_extension": ".py",
   "mimetype": "text/x-python",
   "name": "python",
   "nbconvert_exporter": "python",
   "pygments_lexer": "ipython3",
   "version": "3.9.1"
  },
  "toc-autonumbering": true
 },
 "nbformat": 4,
 "nbformat_minor": 5
}
