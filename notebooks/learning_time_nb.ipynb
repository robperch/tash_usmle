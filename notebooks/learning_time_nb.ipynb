{
 "cells": [
  {
   "cell_type": "markdown",
   "id": "82c1d7a8-d74e-45e1-8937-264331e6d38a",
   "metadata": {},
   "source": [
    "# Base notebook\n",
    "- This is a notebook template"
   ]
  },
  {
   "cell_type": "markdown",
   "id": "4154f37d-fde6-4cef-8617-114a3a2d7d8e",
   "metadata": {},
   "source": [
    "# Imports"
   ]
  },
  {
   "cell_type": "markdown",
   "id": "a98dbaa6-17e1-4b79-93f0-d142aedd0037",
   "metadata": {},
   "source": [
    "#### Standard library imports"
   ]
  },
  {
   "cell_type": "code",
   "execution_count": 1,
   "id": "63099808-51cd-453c-976a-f3060b8650aa",
   "metadata": {},
   "outputs": [],
   "source": [
    "import sys\n",
    "sys.path.append(\"../\")\n",
    "\n",
    "import os"
   ]
  },
  {
   "cell_type": "markdown",
   "id": "b94ec94d-0d78-4ec3-a21c-353ccf52eec6",
   "metadata": {},
   "source": [
    "#### Third party imports"
   ]
  },
  {
   "cell_type": "code",
   "execution_count": 6,
   "id": "ecbfdc5e-653b-4134-a6a4-64958ad67f5c",
   "metadata": {},
   "outputs": [],
   "source": [
    "from moviepy.editor import VideoFileClip\n",
    "import pandas as pd"
   ]
  },
  {
   "cell_type": "markdown",
   "id": "48755fa3-cba0-4508-9df2-18d50f60551b",
   "metadata": {},
   "source": [
    "#### Local application imports"
   ]
  },
  {
   "cell_type": "code",
   "execution_count": 3,
   "id": "a62e34a6-dea0-48d6-a3bc-c5dcdcdb1718",
   "metadata": {},
   "outputs": [],
   "source": [
    "%load_ext autoreload\n",
    "%autoreload 2\n",
    "\n",
    "from pkg_dir.config import *\n",
    "from pkg_dir.src.utils import *\n",
    "from pkg_dir.src.functions import *\n",
    "from pkg_dir.src.parameters import *"
   ]
  },
  {
   "cell_type": "markdown",
   "id": "d533fe5d-c902-4259-97ee-672d6f2363c6",
   "metadata": {},
   "source": [
    "# Creating "
   ]
  },
  {
   "cell_type": "markdown",
   "id": "784be4db-1c06-43e0-a4da-86b1bbcde318",
   "metadata": {},
   "source": [
    "# *Notes*"
   ]
  },
  {
   "cell_type": "markdown",
   "id": "319e160d-3f2c-4abf-9a41-ebd40a9abb48",
   "metadata": {},
   "source": [
    "## Calculating duration for one video"
   ]
  },
  {
   "cell_type": "code",
   "execution_count": 5,
   "id": "d87a5f3c-799e-4194-ae9e-9d0a273cee24",
   "metadata": {},
   "outputs": [
    {
     "data": {
      "text/plain": [
       "'/Users/rp_mbp/Desktop/USMLE STEP 1/Kaplan USMLE Step 1 Videos 2020/01 Anatomy 34h27m/01 Embryology & Histology/01 Gonad Development - Gonad Development.mp4'"
      ]
     },
     "execution_count": 5,
     "metadata": {},
     "output_type": "execute_result"
    }
   ],
   "source": [
    "duration_test_path"
   ]
  },
  {
   "cell_type": "code",
   "execution_count": null,
   "id": "78d9106d-f529-477f-98f9-d77364949d35",
   "metadata": {},
   "outputs": [],
   "source": [
    "video_test = VideoFileClip(duration_test_path)"
   ]
  },
  {
   "cell_type": "code",
   "execution_count": null,
   "id": "c6c03c97-da62-4222-b8bb-217ec89c778a",
   "metadata": {},
   "outputs": [],
   "source": [
    "video_test_dur = video_test.duration\n",
    "video_test_dur"
   ]
  },
  {
   "cell_type": "code",
   "execution_count": null,
   "id": "7e858094-f1c7-4323-bc4e-729ff7235747",
   "metadata": {},
   "outputs": [],
   "source": [
    "video_test_dur/60"
   ]
  },
  {
   "cell_type": "markdown",
   "id": "8f86d033-ef1f-4487-bd13-097bd6b3ccce",
   "metadata": {},
   "source": [
    "## Creating dataframes from nested dictionaries"
   ]
  },
  {
   "cell_type": "code",
   "execution_count": 4,
   "id": "c74cf39f-eb52-42f3-b5f9-71538dc035b3",
   "metadata": {
    "tags": []
   },
   "outputs": [
    {
     "data": {
      "text/plain": [
       "{'Topic_1': {'Subtopic_1.1': {'Class_1.1.1': {'duration': 0.5},\n",
       "   'Class_1.1.2': {'duration': 0.75},\n",
       "   'Class_1.1.3': {'duration': 0.8}},\n",
       "  'Subtopic_1.2': {'Class_1.2.1': {'duration': 0.5},\n",
       "   'Class_1.2.2': {'duration': 0.75},\n",
       "   'Class_1.2.3': {'duration': 0.8}}},\n",
       " 'Topic_2': {'Subtopic_2.1': {'Class_2.1.1': {'duration': 0.5},\n",
       "   'Class_2.1.2': {'duration': 0.75},\n",
       "   'Class_2.1.3': {'duration': 0.8}},\n",
       "  'Subtopic_2.2': {'Class_2.2.1': {'duration': 0.5},\n",
       "   'Class_2.2.2': {'duration': 0.75},\n",
       "   'Class_2.2.3': {'duration': 0.8}}}}"
      ]
     },
     "execution_count": 4,
     "metadata": {},
     "output_type": "execute_result"
    }
   ],
   "source": [
    "test_dict_dir"
   ]
  },
  {
   "cell_type": "code",
   "execution_count": 9,
   "id": "7d1634e0-841a-4d73-9654-f4eed829bf14",
   "metadata": {},
   "outputs": [
    {
     "data": {
      "text/html": [
       "<div>\n",
       "<style scoped>\n",
       "    .dataframe tbody tr th:only-of-type {\n",
       "        vertical-align: middle;\n",
       "    }\n",
       "\n",
       "    .dataframe tbody tr th {\n",
       "        vertical-align: top;\n",
       "    }\n",
       "\n",
       "    .dataframe thead th {\n",
       "        text-align: right;\n",
       "    }\n",
       "</style>\n",
       "<table border=\"1\" class=\"dataframe\">\n",
       "  <thead>\n",
       "    <tr style=\"text-align: right;\">\n",
       "      <th></th>\n",
       "      <th>Topic_1</th>\n",
       "      <th>Topic_2</th>\n",
       "    </tr>\n",
       "  </thead>\n",
       "  <tbody>\n",
       "    <tr>\n",
       "      <th>Subtopic_1.1</th>\n",
       "      <td>{'Class_1.1.1': {'duration': 0.5}, 'Class_1.1....</td>\n",
       "      <td>NaN</td>\n",
       "    </tr>\n",
       "    <tr>\n",
       "      <th>Subtopic_1.2</th>\n",
       "      <td>{'Class_1.2.1': {'duration': 0.5}, 'Class_1.2....</td>\n",
       "      <td>NaN</td>\n",
       "    </tr>\n",
       "    <tr>\n",
       "      <th>Subtopic_2.1</th>\n",
       "      <td>NaN</td>\n",
       "      <td>{'Class_2.1.1': {'duration': 0.5}, 'Class_2.1....</td>\n",
       "    </tr>\n",
       "    <tr>\n",
       "      <th>Subtopic_2.2</th>\n",
       "      <td>NaN</td>\n",
       "      <td>{'Class_2.2.1': {'duration': 0.5}, 'Class_2.2....</td>\n",
       "    </tr>\n",
       "  </tbody>\n",
       "</table>\n",
       "</div>"
      ],
      "text/plain": [
       "                                                        Topic_1  \\\n",
       "Subtopic_1.1  {'Class_1.1.1': {'duration': 0.5}, 'Class_1.1....   \n",
       "Subtopic_1.2  {'Class_1.2.1': {'duration': 0.5}, 'Class_1.2....   \n",
       "Subtopic_2.1                                                NaN   \n",
       "Subtopic_2.2                                                NaN   \n",
       "\n",
       "                                                        Topic_2  \n",
       "Subtopic_1.1                                                NaN  \n",
       "Subtopic_1.2                                                NaN  \n",
       "Subtopic_2.1  {'Class_2.1.1': {'duration': 0.5}, 'Class_2.1....  \n",
       "Subtopic_2.2  {'Class_2.2.1': {'duration': 0.5}, 'Class_2.2....  "
      ]
     },
     "execution_count": 9,
     "metadata": {},
     "output_type": "execute_result"
    }
   ],
   "source": [
    "pd.DataFrame.from_dict(test_dict_dir)"
   ]
  },
  {
   "cell_type": "code",
   "execution_count": 8,
   "id": "9a791bd0-dba8-4783-9aba-5266aedd14ec",
   "metadata": {},
   "outputs": [
    {
     "data": {
      "text/html": [
       "<div>\n",
       "<style scoped>\n",
       "    .dataframe tbody tr th:only-of-type {\n",
       "        vertical-align: middle;\n",
       "    }\n",
       "\n",
       "    .dataframe tbody tr th {\n",
       "        vertical-align: top;\n",
       "    }\n",
       "\n",
       "    .dataframe thead th {\n",
       "        text-align: right;\n",
       "    }\n",
       "</style>\n",
       "<table border=\"1\" class=\"dataframe\">\n",
       "  <thead>\n",
       "    <tr style=\"text-align: right;\">\n",
       "      <th></th>\n",
       "      <th>Subtopic_1.1</th>\n",
       "      <th>Subtopic_1.2</th>\n",
       "      <th>Subtopic_2.1</th>\n",
       "      <th>Subtopic_2.2</th>\n",
       "    </tr>\n",
       "  </thead>\n",
       "  <tbody>\n",
       "    <tr>\n",
       "      <th>Topic_1</th>\n",
       "      <td>{'Class_1.1.1': {'duration': 0.5}, 'Class_1.1....</td>\n",
       "      <td>{'Class_1.2.1': {'duration': 0.5}, 'Class_1.2....</td>\n",
       "      <td>NaN</td>\n",
       "      <td>NaN</td>\n",
       "    </tr>\n",
       "    <tr>\n",
       "      <th>Topic_2</th>\n",
       "      <td>NaN</td>\n",
       "      <td>NaN</td>\n",
       "      <td>{'Class_2.1.1': {'duration': 0.5}, 'Class_2.1....</td>\n",
       "      <td>{'Class_2.2.1': {'duration': 0.5}, 'Class_2.2....</td>\n",
       "    </tr>\n",
       "  </tbody>\n",
       "</table>\n",
       "</div>"
      ],
      "text/plain": [
       "                                              Subtopic_1.1  \\\n",
       "Topic_1  {'Class_1.1.1': {'duration': 0.5}, 'Class_1.1....   \n",
       "Topic_2                                                NaN   \n",
       "\n",
       "                                              Subtopic_1.2  \\\n",
       "Topic_1  {'Class_1.2.1': {'duration': 0.5}, 'Class_1.2....   \n",
       "Topic_2                                                NaN   \n",
       "\n",
       "                                              Subtopic_2.1  \\\n",
       "Topic_1                                                NaN   \n",
       "Topic_2  {'Class_2.1.1': {'duration': 0.5}, 'Class_2.1....   \n",
       "\n",
       "                                              Subtopic_2.2  \n",
       "Topic_1                                                NaN  \n",
       "Topic_2  {'Class_2.2.1': {'duration': 0.5}, 'Class_2.2....  "
      ]
     },
     "execution_count": 8,
     "metadata": {},
     "output_type": "execute_result"
    }
   ],
   "source": [
    "pd.DataFrame.from_dict(test_dict_dir, orient=\"index\")"
   ]
  },
  {
   "cell_type": "code",
   "execution_count": null,
   "id": "c8b7e197-b9a7-49c0-9892-816f5bd8ba12",
   "metadata": {},
   "outputs": [],
   "source": []
  },
  {
   "cell_type": "markdown",
   "id": "b34c662c-f724-412f-86d7-75647d9b5448",
   "metadata": {},
   "source": [
    "---"
   ]
  },
  {
   "cell_type": "markdown",
   "id": "168089c7-257b-4b61-9a65-803e32753196",
   "metadata": {},
   "source": [
    "---"
   ]
  }
 ],
 "metadata": {
  "kernelspec": {
   "display_name": "Python 3 (ipykernel)",
   "language": "python",
   "name": "python3"
  },
  "language_info": {
   "codemirror_mode": {
    "name": "ipython",
    "version": 3
   },
   "file_extension": ".py",
   "mimetype": "text/x-python",
   "name": "python",
   "nbconvert_exporter": "python",
   "pygments_lexer": "ipython3",
   "version": "3.9.1"
  },
  "toc-autonumbering": true
 },
 "nbformat": 4,
 "nbformat_minor": 5
}
